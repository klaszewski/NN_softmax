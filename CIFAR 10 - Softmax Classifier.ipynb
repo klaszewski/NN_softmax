{
 "cells": [
  {
   "cell_type": "markdown",
   "id": "6894518e",
   "metadata": {},
   "source": [
    "# CIFAR10 Classifier - Softmax loss"
   ]
  },
  {
   "cell_type": "markdown",
   "id": "b842cd67",
   "metadata": {},
   "source": [
    "### Import packages"
   ]
  },
  {
   "cell_type": "code",
   "execution_count": 1,
   "id": "c0b59943",
   "metadata": {},
   "outputs": [],
   "source": [
    "import numpy as np\n",
    "\n",
    "import torch\n",
    "import torchvision\n",
    "import torchvision.transforms as transforms\n",
    "\n",
    "import matplotlib.pyplot as plt"
   ]
  },
  {
   "cell_type": "markdown",
   "id": "a439b68e",
   "metadata": {},
   "source": [
    "### Load and normalize CIFAR10"
   ]
  },
  {
   "cell_type": "code",
   "execution_count": 2,
   "id": "0c9c8eae",
   "metadata": {},
   "outputs": [
    {
     "name": "stdout",
     "output_type": "stream",
     "text": [
      "Files already downloaded and verified\n",
      "Files already downloaded and verified\n"
     ]
    }
   ],
   "source": [
    "transform = transforms.Compose(\n",
    "    [transforms.ToTensor(),\n",
    "     transforms.Normalize((0.5, 0.5, 0.5), (0.5, 0.5, 0.5))])\n",
    "\n",
    "batch_size = 4\n",
    "\n",
    "trainset = torchvision.datasets.CIFAR10(root='./data', train=True,\n",
    "                                        download=True, transform=transform)\n",
    "trainloader = torch.utils.data.DataLoader(trainset, batch_size=batch_size,\n",
    "                                          shuffle=True, num_workers=2)\n",
    "\n",
    "testset = torchvision.datasets.CIFAR10(root='./data', train=False,\n",
    "                                       download=True, transform=transform)\n",
    "testloader = torch.utils.data.DataLoader(testset, batch_size=batch_size,\n",
    "                                         shuffle=False, num_workers=2)\n",
    "\n",
    "classes = ('plane', 'car', 'bird', 'cat',\n",
    "           'deer', 'dog', 'frog', 'horse', 'ship', 'truck')"
   ]
  },
  {
   "cell_type": "markdown",
   "id": "83aabdd1",
   "metadata": {},
   "source": [
    "### NEURAL NETWORK WITH SOFTMAX FUNCTION"
   ]
  },
  {
   "cell_type": "code",
   "execution_count": 3,
   "id": "68e36bc5",
   "metadata": {},
   "outputs": [],
   "source": [
    "import torch.nn as nn\n",
    "import torch.nn.functional as F\n",
    "\n",
    "\n",
    "class Net(nn.Module):\n",
    "    def __init__(self):\n",
    "        super().__init__()\n",
    "        self.conv1 = nn.Conv2d(3, 6, 5)\n",
    "        self.pool = nn.MaxPool2d(2, 2)\n",
    "        self.conv2 = nn.Conv2d(6, 16, 5)\n",
    "        self.fc1 = nn.Linear(16 * 5 * 5, 120)\n",
    "        self.fc2 = nn.Linear(120, 84)\n",
    "        self.fc3 = nn.Linear(84, 10)\n",
    "\n",
    "    def forward(self, x):\n",
    "        x = self.pool(F.relu(self.conv1(x)))\n",
    "        x = self.pool(F.relu(self.conv2(x)))\n",
    "        x = torch.flatten(x, 1) # flatten all dimensions except batch\n",
    "        x = F.relu(self.fc1(x))\n",
    "        x = F.relu(self.fc2(x))\n",
    "        x = self.fc3(x)\n",
    "        return x\n",
    "\n",
    "\n",
    "net = Net()"
   ]
  },
  {
   "cell_type": "markdown",
   "id": "37921e35",
   "metadata": {},
   "source": [
    "### Loss function and optimizer"
   ]
  },
  {
   "cell_type": "code",
   "execution_count": null,
   "id": "61ef6da2",
   "metadata": {},
   "outputs": [],
   "source": [
    "import torch.optim as optim\n",
    "\n",
    "optimizer = optim.SGD(net.parameters(), lr=0.001, momentum=0.9)"
   ]
  },
  {
   "cell_type": "code",
   "execution_count": 4,
   "id": "c2e85550",
   "metadata": {},
   "outputs": [],
   "source": [
    "def my_cross_entropy(x,y):\n",
    "    log_prob = -1.0 * F.log_softmax(x, 1)\n",
    "    loss = log_prob.gather(1, y.unsqueeze(1))\n",
    "    loss = loss.mean()\n",
    "    return loss"
   ]
  },
  {
   "cell_type": "markdown",
   "id": "1030519e",
   "metadata": {},
   "source": [
    "### Training network"
   ]
  },
  {
   "cell_type": "code",
   "execution_count": 5,
   "id": "c76cabe3",
   "metadata": {},
   "outputs": [
    {
     "name": "stderr",
     "output_type": "stream",
     "text": [
      "/mnt/data/klaszewski/miniconda3/envs/nn_proj/lib/python3.9/site-packages/torch/autograd/__init__.py:154: UserWarning: CUDA initialization: Unexpected error from cudaGetDeviceCount(). Did you run some cuda functions before calling NumCudaDevices() that might have already set an error? Error 101: invalid device ordinal (Triggered internally at  /opt/conda/conda-bld/pytorch_1640811803361/work/c10/cuda/CUDAFunctions.cpp:112.)\n",
      "  Variable._execution_engine.run_backward(\n"
     ]
    },
    {
     "name": "stdout",
     "output_type": "stream",
     "text": [
      "[1,  1000] loss: 1.146\n",
      "[1,  2000] loss: 1.055\n",
      "[1,  3000] loss: 0.963\n",
      "[1,  4000] loss: 0.888\n",
      "[1,  5000] loss: 0.851\n",
      "[1,  6000] loss: 0.833\n",
      "[1,  7000] loss: 0.802\n",
      "[1,  8000] loss: 0.807\n",
      "[1,  9000] loss: 0.783\n",
      "[1, 10000] loss: 0.763\n",
      "[1, 11000] loss: 0.766\n",
      "[1, 12000] loss: 0.755\n",
      "[2,  1000] loss: 0.721\n",
      "[2,  2000] loss: 0.714\n",
      "[2,  3000] loss: 0.713\n",
      "[2,  4000] loss: 0.712\n",
      "[2,  5000] loss: 0.686\n",
      "[2,  6000] loss: 0.689\n",
      "[2,  7000] loss: 0.675\n",
      "[2,  8000] loss: 0.660\n",
      "[2,  9000] loss: 0.659\n",
      "[2, 10000] loss: 0.653\n",
      "[2, 11000] loss: 0.653\n",
      "[2, 12000] loss: 0.648\n",
      "[3,  1000] loss: 0.623\n",
      "[3,  2000] loss: 0.628\n",
      "[3,  3000] loss: 0.603\n",
      "[3,  4000] loss: 0.619\n",
      "[3,  5000] loss: 0.604\n",
      "[3,  6000] loss: 0.603\n",
      "[3,  7000] loss: 0.597\n",
      "[3,  8000] loss: 0.596\n",
      "[3,  9000] loss: 0.613\n",
      "[3, 10000] loss: 0.606\n",
      "[3, 11000] loss: 0.604\n",
      "[3, 12000] loss: 0.595\n",
      "[4,  1000] loss: 0.560\n",
      "[4,  2000] loss: 0.548\n",
      "[4,  3000] loss: 0.559\n",
      "[4,  4000] loss: 0.560\n",
      "[4,  5000] loss: 0.569\n",
      "[4,  6000] loss: 0.563\n",
      "[4,  7000] loss: 0.562\n",
      "[4,  8000] loss: 0.553\n",
      "[4,  9000] loss: 0.536\n",
      "[4, 10000] loss: 0.551\n",
      "[4, 11000] loss: 0.548\n",
      "[4, 12000] loss: 0.560\n",
      "[5,  1000] loss: 0.502\n",
      "[5,  2000] loss: 0.526\n",
      "[5,  3000] loss: 0.511\n",
      "[5,  4000] loss: 0.515\n",
      "[5,  5000] loss: 0.505\n",
      "[5,  6000] loss: 0.519\n",
      "[5,  7000] loss: 0.522\n",
      "[5,  8000] loss: 0.519\n",
      "[5,  9000] loss: 0.520\n",
      "[5, 10000] loss: 0.528\n",
      "[5, 11000] loss: 0.524\n",
      "[5, 12000] loss: 0.525\n",
      "[6,  1000] loss: 0.485\n",
      "[6,  2000] loss: 0.467\n",
      "[6,  3000] loss: 0.495\n",
      "[6,  4000] loss: 0.488\n",
      "[6,  5000] loss: 0.492\n",
      "[6,  6000] loss: 0.486\n",
      "[6,  7000] loss: 0.485\n",
      "[6,  8000] loss: 0.489\n",
      "[6,  9000] loss: 0.493\n",
      "[6, 10000] loss: 0.502\n",
      "[6, 11000] loss: 0.489\n",
      "[6, 12000] loss: 0.500\n",
      "[7,  1000] loss: 0.425\n",
      "[7,  2000] loss: 0.460\n",
      "[7,  3000] loss: 0.451\n",
      "[7,  4000] loss: 0.465\n",
      "[7,  5000] loss: 0.469\n",
      "[7,  6000] loss: 0.477\n",
      "[7,  7000] loss: 0.469\n",
      "[7,  8000] loss: 0.470\n",
      "[7,  9000] loss: 0.472\n",
      "[7, 10000] loss: 0.474\n",
      "[7, 11000] loss: 0.475\n",
      "[7, 12000] loss: 0.471\n",
      "[8,  1000] loss: 0.426\n",
      "[8,  2000] loss: 0.436\n",
      "[8,  3000] loss: 0.431\n",
      "[8,  4000] loss: 0.442\n",
      "[8,  5000] loss: 0.450\n",
      "[8,  6000] loss: 0.444\n",
      "[8,  7000] loss: 0.423\n",
      "[8,  8000] loss: 0.450\n",
      "[8,  9000] loss: 0.446\n",
      "[8, 10000] loss: 0.447\n",
      "[8, 11000] loss: 0.469\n",
      "[8, 12000] loss: 0.463\n",
      "Finished Training\n"
     ]
    }
   ],
   "source": [
    "import torch.optim as optim\n",
    "\n",
    "\n",
    "epochs = 8\n",
    "for e in range(epochs):\n",
    "  running_loss = 0\n",
    "  for i, data in enumerate(trainloader, 0):\n",
    "    # get the inputs; data is a list of [inputs, labels]\n",
    "    inputs, labels = data\n",
    "\n",
    "    # zero the parameter gradients\n",
    "    optimizer.zero_grad()\n",
    "\n",
    "    # forward + backward + optimize\n",
    "    outputs = net(inputs)\n",
    "    loss = my_cross_entropy(outputs, labels)\n",
    "    loss.backward()\n",
    "    optimizer.step()\n",
    "\n",
    "    # print statistics\n",
    "    running_loss += loss.item()\n",
    "    if i % 1000 == 999:    # print every 2000 mini-batches\n",
    "        print(f'[{e + 1}, {i + 1:5d}] loss: {running_loss / 2000:.3f}')\n",
    "        running_loss = 0.0\n",
    "\n",
    "print('Finished Training')"
   ]
  },
  {
   "cell_type": "markdown",
   "id": "71b4ed0e",
   "metadata": {},
   "source": [
    "### Test network on dataset"
   ]
  },
  {
   "cell_type": "code",
   "execution_count": 6,
   "id": "3f5a4ddc",
   "metadata": {},
   "outputs": [
    {
     "name": "stdout",
     "output_type": "stream",
     "text": [
      "Accuracy of the network on the 10000 test images: 62 %\n"
     ]
    }
   ],
   "source": [
    "correct = 0\n",
    "total = 0\n",
    "# since we're not training, we don't need to calculate the gradients for our outputs\n",
    "with torch.no_grad():\n",
    "    for data in testloader:\n",
    "        images, labels = data\n",
    "        # calculate outputs by running images through the network\n",
    "        outputs = net(images)\n",
    "        # the class with the highest energy is what we choose as prediction\n",
    "        _, predicted = torch.max(outputs.data, 1)\n",
    "        total += labels.size(0)\n",
    "        correct += (predicted == labels).sum().item()\n",
    "\n",
    "print(f'Accuracy of the network on the 10000 test images: {100 * correct // total} %')"
   ]
  },
  {
   "cell_type": "markdown",
   "id": "54ae3524",
   "metadata": {},
   "source": [
    "### Predictions for each class"
   ]
  },
  {
   "cell_type": "code",
   "execution_count": 7,
   "id": "e95dd8c8",
   "metadata": {},
   "outputs": [
    {
     "name": "stdout",
     "output_type": "stream",
     "text": [
      "Accuracy for class: plane is 56.8 %\n",
      "Accuracy for class: car   is 68.9 %\n",
      "Accuracy for class: bird  is 49.2 %\n",
      "Accuracy for class: cat   is 55.3 %\n",
      "Accuracy for class: deer  is 46.8 %\n",
      "Accuracy for class: dog   is 53.0 %\n",
      "Accuracy for class: frog  is 73.4 %\n",
      "Accuracy for class: horse is 66.7 %\n",
      "Accuracy for class: ship  is 80.1 %\n",
      "Accuracy for class: truck is 76.8 %\n"
     ]
    }
   ],
   "source": [
    "# prepare to count predictions for each class\n",
    "correct_pred = {classname: 0 for classname in classes}\n",
    "total_pred = {classname: 0 for classname in classes}\n",
    "\n",
    "# again no gradients needed\n",
    "with torch.no_grad():\n",
    "    for data in testloader:\n",
    "        images, labels = data\n",
    "        outputs = net(images)\n",
    "        _, predictions = torch.max(outputs, 1)\n",
    "        # collect the correct predictions for each class\n",
    "        for label, prediction in zip(labels, predictions):\n",
    "            if label == prediction:\n",
    "                correct_pred[classes[label]] += 1\n",
    "            total_pred[classes[label]] += 1\n",
    "\n",
    "\n",
    "# print accuracy for each class\n",
    "for classname, correct_count in correct_pred.items():\n",
    "    accuracy = 100 * float(correct_count) / total_pred[classname]\n",
    "    print(f'Accuracy for class: {classname:5s} is {accuracy:.1f} %')\n"
   ]
  }
 ],
 "metadata": {
  "kernelspec": {
   "display_name": "Python 3 (ipykernel)",
   "language": "python",
   "name": "python3"
  },
  "language_info": {
   "codemirror_mode": {
    "name": "ipython",
    "version": 3
   },
   "file_extension": ".py",
   "mimetype": "text/x-python",
   "name": "python",
   "nbconvert_exporter": "python",
   "pygments_lexer": "ipython3",
   "version": "3.9.7"
  }
 },
 "nbformat": 4,
 "nbformat_minor": 5
}
